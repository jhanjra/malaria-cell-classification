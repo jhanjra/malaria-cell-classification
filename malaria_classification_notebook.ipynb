{
 "cells": [
  {
   "cell_type": "markdown",
   "metadata": {},
   "source": [
    "# Image Preprocessing #"
   ]
  },
  {
   "cell_type": "markdown",
   "metadata": {},
   "source": [
    "<p> The following notebook defines a few functions for preprocessing the images, visualizing the transformations, and implements different models on the data for classification. The functions will resize the images to (120,120,3), and apply a Gaussian blur. </p?"
   ]
  },
  {
   "cell_type": "code",
   "execution_count": 1,
   "metadata": {},
   "outputs": [],
   "source": [
    "import os\n",
    "import numpy as np\n",
    "import matplotlib.pyplot as plt\n",
    "import matplotlib.image as mpimg\n",
    "import cv2\n",
    "import pandas as pd\n",
    "\n",
    "# defining global variable path\n",
    "par_image_path = 'cell_images/cell_images/cell_images/Parasitized'\n",
    "uni_image_path = 'cell_images/cell_images/cell_images/Uninfected'\n",
    "\n",
    "# function to load folder into arrays and then it returns that same array\n",
    "def loadImages(path):\n",
    "    # Put files into lists and return them as one list of size 4\n",
    "    image_files = sorted([os.path.join(path, file)\n",
    "         for file in os.listdir(path) if      file.endswith('.png')])\n",
    " \n",
    "    return image_files"
   ]
  },
  {
   "cell_type": "code",
   "execution_count": 2,
   "metadata": {},
   "outputs": [],
   "source": [
    "# Display one image\n",
    "def display_one(a, title1 = \"Original\"):\n",
    "    plt.imshow(a), plt.title(title1)\n",
    "    plt.xticks([]), plt.yticks([])\n",
    "    plt.show()\n",
    "    \n",
    "# Display two images\n",
    "def display(a, b, title1 = \"Original\", title2 = \"Edited\"):\n",
    "    plt.subplot(121), plt.imshow(a), plt.title(title1)\n",
    "    plt.xticks([]), plt.yticks([])\n",
    "    plt.subplot(122), plt.imshow(b), plt.title(title2)\n",
    "    plt.xticks([]), plt.yticks([])\n",
    "    plt.show()\n",
    "    \n",
    "# Preprocessing\n",
    "def processing(data):\n",
    "    # loading image\n",
    "    # Form list of images that can be operated on and displayed\n",
    "    img = [cv2.imread(i, cv2.IMREAD_UNCHANGED) for i in data]\n",
    "    print('Original size',img[0].shape)\n",
    "    \n",
    "    # setting dimensions of the resize\n",
    "    height = 120\n",
    "    width = 120\n",
    "    dim = (width, height)\n",
    "    res_img = []\n",
    "    for i in range(len(img)):\n",
    "        res = cv2.resize(img[i], dim, interpolation=cv2.INTER_LINEAR)\n",
    "        res_img.append(res)\n",
    "\n",
    "    # Checcking the size\n",
    "    print(\"RESIZED\", res_img[1].shape)\n",
    "    \n",
    "    # Visualizing one of the images in the array\n",
    "    original = res_img[1]\n",
    "    display_one(original)\n",
    "    \n",
    "    # Remove noise\n",
    "    # Gaussian\n",
    "    no_noise = []\n",
    "    for i in range(len(res_img)):\n",
    "        blur = cv2.GaussianBlur(res_img[i], (5, 5), 0)\n",
    "        no_noise.append(blur)\n",
    "\n",
    "\n",
    "    image = no_noise[1]\n",
    "    display(original, image, 'Original', 'Blurred')\n",
    "    return no_noise"
   ]
  },
  {
   "cell_type": "code",
   "execution_count": 3,
   "metadata": {},
   "outputs": [
    {
     "ename": "FileNotFoundError",
     "evalue": "[WinError 3] The system cannot find the path specified: 'cell_images/cell_images/cell_images/Parasitized'",
     "output_type": "error",
     "traceback": [
      "\u001b[1;31m---------------------------------------------------------------------------\u001b[0m",
      "\u001b[1;31mFileNotFoundError\u001b[0m                         Traceback (most recent call last)",
      "\u001b[1;32m<ipython-input-3-7f805c18d318>\u001b[0m in \u001b[0;36m<module>\u001b[1;34m\u001b[0m\n\u001b[1;32m----> 1\u001b[1;33m \u001b[0mpar_imgs\u001b[0m \u001b[1;33m=\u001b[0m \u001b[0mloadImages\u001b[0m\u001b[1;33m(\u001b[0m\u001b[0mpar_image_path\u001b[0m\u001b[1;33m)\u001b[0m\u001b[1;33m\u001b[0m\u001b[1;33m\u001b[0m\u001b[0m\n\u001b[0m\u001b[0;32m      2\u001b[0m \u001b[0mprocessed_imgs_par\u001b[0m \u001b[1;33m=\u001b[0m \u001b[0mprocessing\u001b[0m\u001b[1;33m(\u001b[0m\u001b[0mpar_imgs\u001b[0m\u001b[1;33m)\u001b[0m\u001b[1;33m\u001b[0m\u001b[1;33m\u001b[0m\u001b[0m\n\u001b[0;32m      3\u001b[0m \u001b[0muni_imgs\u001b[0m \u001b[1;33m=\u001b[0m \u001b[0mloadImages\u001b[0m\u001b[1;33m(\u001b[0m\u001b[0muni_image_path\u001b[0m\u001b[1;33m)\u001b[0m\u001b[1;33m\u001b[0m\u001b[1;33m\u001b[0m\u001b[0m\n\u001b[0;32m      4\u001b[0m \u001b[0mprocessed_imgs_uni\u001b[0m \u001b[1;33m=\u001b[0m \u001b[0mprocessing\u001b[0m\u001b[1;33m(\u001b[0m\u001b[0muni_imgs\u001b[0m\u001b[1;33m)\u001b[0m\u001b[1;33m\u001b[0m\u001b[1;33m\u001b[0m\u001b[0m\n\u001b[0;32m      5\u001b[0m \u001b[0mprocessed_imgs\u001b[0m \u001b[1;33m=\u001b[0m \u001b[0mprocessed_imgs_par\u001b[0m \u001b[1;33m+\u001b[0m \u001b[0mprocessed_imgs_uni\u001b[0m\u001b[1;33m\u001b[0m\u001b[1;33m\u001b[0m\u001b[0m\n",
      "\u001b[1;32m<ipython-input-1-7081c8669510>\u001b[0m in \u001b[0;36mloadImages\u001b[1;34m(path)\u001b[0m\n\u001b[0;32m     14\u001b[0m     \u001b[1;31m# Put files into lists and return them as one list of size 4\u001b[0m\u001b[1;33m\u001b[0m\u001b[1;33m\u001b[0m\u001b[1;33m\u001b[0m\u001b[0m\n\u001b[0;32m     15\u001b[0m     image_files = sorted([os.path.join(path, file)\n\u001b[1;32m---> 16\u001b[1;33m          for file in os.listdir(path) if      file.endswith('.png')])\n\u001b[0m\u001b[0;32m     17\u001b[0m \u001b[1;33m\u001b[0m\u001b[0m\n\u001b[0;32m     18\u001b[0m     \u001b[1;32mreturn\u001b[0m \u001b[0mimage_files\u001b[0m\u001b[1;33m\u001b[0m\u001b[1;33m\u001b[0m\u001b[0m\n",
      "\u001b[1;31mFileNotFoundError\u001b[0m: [WinError 3] The system cannot find the path specified: 'cell_images/cell_images/cell_images/Parasitized'"
     ]
    }
   ],
   "source": [
    "par_imgs = loadImages(par_image_path)\n",
    "processed_imgs_par = processing(par_imgs)\n",
    "uni_imgs = loadImages(uni_image_path)\n",
    "processed_imgs_uni = processing(uni_imgs)\n",
    "processed_imgs = processed_imgs_par + processed_imgs_uni"
   ]
  },
  {
   "cell_type": "code",
   "execution_count": null,
   "metadata": {},
   "outputs": [],
   "source": [
    "# This function creates a vector of features by compressing the images into vector format\n",
    "def feature_vectorizer(image, size=(30,30)):\n",
    "    # Resize image to (30,30), compress RGB values to list\n",
    "    feature_vect = cv2.resize(image, size).flatten()\n",
    "    return feature_vect"
   ]
  },
  {
   "cell_type": "code",
   "execution_count": null,
   "metadata": {},
   "outputs": [],
   "source": [
    "# Convert images to feature vectors\n",
    "rawImages = []\n",
    "labels = []\n",
    "count = 0\n",
    "\n",
    "for i in processed_imgs:\n",
    "    pixels = feature_vectorizer(i)\n",
    "    rawImages.append(pixels)\n",
    "    \n",
    "    # Parasitized\n",
    "    if count < 13779:\n",
    "        labels.append(1)\n",
    "    # Uninfected\n",
    "    else:\n",
    "        labels.append(0)\n",
    "    count+=1\n",
    "rawImages = np.array(rawImages)\n",
    "labels = np.array(labels)\n",
    "scaler = StandardScaler()\n",
    "raw_scaled = scaler.fit_transform(rawImages)\n",
    "images_df = pd.DataFrame(raw_scaled)\n",
    "images_df['label'] = labels\n",
    "images_df"
   ]
  },
  {
   "cell_type": "code",
   "execution_count": null,
   "metadata": {},
   "outputs": [],
   "source": [
    "\"\"\" Function to provide k_fold cross validation of the model\n",
    "@param dataset = the full training dataset with class labels as a pandas DataFrame\n",
    "@param knn_model = the given model with known hyperparameters\n",
    "@param n_partitions = the the number of partitions to use for validation\"\"\"\n",
    "def cross_val(dataset, model, n_partitions):\n",
    "    partitions = np.array_split(dataset, n_partitions)\n",
    "    accuracies = list()\n",
    " \n",
    "    # For each partition, compute accuracy for the model using it as test and train one time each\n",
    "    for i in range(len(partitions)):\n",
    "        test_set = partitions[i]\n",
    "        train_list = list()\n",
    "        # Append all partitions to train except for the one being used as test\n",
    "        for j in range(len(partitions)):\n",
    "            if i == j:\n",
    "                continue\n",
    "            train_list.append(partitions[j])\n",
    "            \n",
    "        # Combine DataFrames of the train_list to form the train_set\n",
    "        train_set = pd.concat(train_list)\n",
    "\n",
    "        \n",
    "        X_train = train_set.drop(columns=['label'])\n",
    "        y_train = train_set['label']\n",
    "        \n",
    "        \n",
    "        # Separate training set and test set\n",
    "        X_test = test_set.drop(columns=['label'])\n",
    "        y_test = test_set['label']\n",
    "        \n",
    "        \n",
    "        # Fit the model to the train_set\n",
    "        model.fit(X_train, y_train)\n",
    "        temp_acc = model.score(X_test, y_test)\n",
    "        accuracies.append(temp_acc)\n",
    "        \n",
    "    return np.mean(accuracies)"
   ]
  },
  {
   "cell_type": "markdown",
   "metadata": {},
   "source": [
    "# K-NN Model #"
   ]
  },
  {
   "cell_type": "code",
   "execution_count": null,
   "metadata": {},
   "outputs": [],
   "source": [
    "from sklearn.neighbors import KNeighborsClassifier\n",
    "from sklearn.model_selection import train_test_split\n",
    "from sklearn.preprocessing import StandardScaler"
   ]
  },
  {
   "cell_type": "code",
   "execution_count": null,
   "metadata": {},
   "outputs": [],
   "source": [
    "knn = KNeighborsClassifier(n_neighbors=1)\n",
    "score = cross_val(images_df, knn, 10)\n",
    "score"
   ]
  },
  {
   "cell_type": "markdown",
   "metadata": {},
   "source": [
    "<h1> SVM Model </h1>"
   ]
  },
  {
   "cell_type": "code",
   "execution_count": null,
   "metadata": {},
   "outputs": [],
   "source": [
    "from sklearn import svm\n",
    "X_train, X_test, y_train, y_test = train_test_split(rawImages, labels, train_size = 0.8, random_state = 1)\n",
    "clf = svm.SVC()\n",
    "clf.fit(X_train, y_train)\n",
    "svm_y_pred = clf.predict(X_test)\n",
    "\n",
    "svm_acc = clf.score(X_test, y_test)\n",
    "svm_acc"
   ]
  },
  {
   "cell_type": "markdown",
   "metadata": {},
   "source": [
    "# Decision Tree Model #"
   ]
  },
  {
   "cell_type": "code",
   "execution_count": null,
   "metadata": {},
   "outputs": [],
   "source": [
    "from sklearn import tree\n",
    "X_train, X_test, y_train, y_test = train_test_split(rawImages, labels, train_size = 0.8, random_state = 1)\n",
    "dt = tree.DecisionTreeClassifier(criterion='gini', splitter='best', random_state=1)\n",
    "dt.fit(X_train, y_train)\n",
    "\n",
    "dt_acc = dt.score(X_test, y_test)\n",
    "dt_y_pred = dt.predict(X_test)\n",
    "dt_acc"
   ]
  },
  {
   "cell_type": "markdown",
   "metadata": {},
   "source": [
    "# Performance Evaluation #"
   ]
  },
  {
   "cell_type": "code",
   "execution_count": null,
   "metadata": {},
   "outputs": [],
   "source": [
    "from sklearn.metrics import classification_report, confusion_matrix\n",
    "print(confusion_matrix(y_test, dt_y_pred))\n",
    "print(classification_report(y_test, dt_y_pred))"
   ]
  },
  {
   "cell_type": "code",
   "execution_count": null,
   "metadata": {},
   "outputs": [],
   "source": [
    "print(confusion_matrix(y_test, svm_y_pred))\n",
    "print(classification_report(y_test, svm_y_pred))"
   ]
  },
  {
   "cell_type": "code",
   "execution_count": null,
   "metadata": {},
   "outputs": [],
   "source": [
    "# Plotting error rate vs K value for KNN model\n",
    "error = []\n",
    "\n",
    "# Calculating error for K values between 1 and 20\n",
    "for i in range(1, 20):\n",
    "    knn = KNeighborsClassifier(n_neighbors=i)\n",
    "    knn.fit(X_train, y_train)\n",
    "    pred_i = knn.predict(X_test)\n",
    "    error.append(np.mean(pred_i != y_test))"
   ]
  },
  {
   "cell_type": "code",
   "execution_count": null,
   "metadata": {},
   "outputs": [],
   "source": [
    "plt.figure(figsize=(12, 6))\n",
    "plt.plot(range(1, 20), error, color='red', linestyle='dashed', marker='o',\n",
    "         markerfacecolor='blue', markersize=10)\n",
    "plt.title('Error Rate K Value')\n",
    "plt.xlabel('K Value')\n",
    "plt.ylabel('Mean Error')"
   ]
  }
 ],
 "metadata": {
  "kernelspec": {
   "display_name": "Python 3",
   "language": "python",
   "name": "python3"
  },
  "language_info": {
   "codemirror_mode": {
    "name": "ipython",
    "version": 3
   },
   "file_extension": ".py",
   "mimetype": "text/x-python",
   "name": "python",
   "nbconvert_exporter": "python",
   "pygments_lexer": "ipython3",
   "version": "3.8.5"
  }
 },
 "nbformat": 4,
 "nbformat_minor": 4
}
